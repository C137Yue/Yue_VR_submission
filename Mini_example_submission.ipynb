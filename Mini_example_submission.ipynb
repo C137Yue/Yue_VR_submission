{
 "cells": [
  {
   "cell_type": "markdown",
   "id": "6c3b7430-58d1-4268-8c2f-7152a2cb766b",
   "metadata": {},
   "source": [
    "# Understanding boston house price \n",
    "This script used the Boston Housing dataset to understand how do various housing-related features influence the median home price in Boston.\n",
    "More specifically, it aims to determine which factors significantly impact housing prices by performing a simple linear regression analysis on the Boston Housing dataset. The regression model will help identify key predictors of home prices, such as crime rates, number of rooms, property tax rates, and accessibility to highways.\n",
    "## Data pre-processing\n",
    "Drops any missing values."
   ]
  },
  {
   "cell_type": "code",
   "execution_count": 3,
   "id": "c5dc10d0-bf9d-44c6-a475-60e32724fe95",
   "metadata": {},
   "outputs": [],
   "source": [
    "import numpy as np\n",
    "import pandas as pd\n",
    "import seaborn as sns\n",
    "import matplotlib.pyplot as plt\n",
    "from sklearn.datasets import fetch_openml\n",
    "from sklearn.model_selection import train_test_split\n",
    "from sklearn.preprocessing import StandardScaler\n",
    "import statsmodels.api as sm"
   ]
  },
  {
   "cell_type": "markdown",
   "id": "6f90ff75-e667-43cc-86a9-1d98c5594a14",
   "metadata": {},
   "source": [
    "# Function of data pre-processing and regression analysis"
   ]
  },
  {
   "cell_type": "code",
   "execution_count": 8,
   "id": "8fb5a29b-6a83-4066-be64-baa4f92fa438",
   "metadata": {},
   "outputs": [],
   "source": [
    "def load_and_clean_data():\n",
    "    \"\"\"Loads the Boston Housing dataset and cleans missing values.\"\"\"\n",
    "    data = fetch_openml(name=\"boston\", version=1, as_frame=True)\n",
    "    df = data.frame\n",
    "    df = df.dropna()  # Remove missing values if any\n",
    "    return df\n",
    "\n",
    "def normalize_data(df, target_column):\n",
    "    \"\"\"Normalizes features and separates the target variable.\"\"\"\n",
    "    X = df.drop(columns=[target_column])\n",
    "    y = df[target_column]\n",
    "    scaler = StandardScaler()\n",
    "    X_scaled = scaler.fit_transform(X)\n",
    "    return pd.DataFrame(X_scaled, columns=X.columns), y\n",
    "\n",
    "def perform_regression(X, y):\n",
    "    \"\"\"Performs simple linear regression using statsmodels.\"\"\"\n",
    "    X = sm.add_constant(X)  # Adds an intercept term\n",
    "    model = sm.OLS(y, X).fit()\n",
    "    return model"
   ]
  },
  {
   "cell_type": "code",
   "execution_count": 9,
   "id": "1698e358-7195-4004-bed6-2f0004b35cd6",
   "metadata": {},
   "outputs": [],
   "source": [
    "def main():\n",
    "    df = load_and_clean_data()\n",
    "    \n",
    "    target_column = \"MEDV\"  # Boston housing price column\n",
    "    X, y = normalize_data(df, target_column)\n",
    "    \n",
    "    model = perform_regression(X, y)\n",
    "    \n",
    "    print(model.summary())  # Display regression results"
   ]
  },
  {
   "cell_type": "markdown",
   "id": "4910a409-33f8-48b8-aa13-d4146cf77321",
   "metadata": {},
   "source": [
    "# Data preprocessing and Regression analysis"
   ]
  },
  {
   "cell_type": "code",
   "execution_count": 10,
   "id": "74cf09b3-cd1a-4883-aa03-5ee9171beacd",
   "metadata": {},
   "outputs": [
    {
     "name": "stdout",
     "output_type": "stream",
     "text": [
      "                            OLS Regression Results                            \n",
      "==============================================================================\n",
      "Dep. Variable:                   MEDV   R-squared:                       0.741\n",
      "Model:                            OLS   Adj. R-squared:                  0.734\n",
      "Method:                 Least Squares   F-statistic:                     108.1\n",
      "Date:                Fri, 14 Mar 2025   Prob (F-statistic):          6.72e-135\n",
      "Time:                        13:06:47   Log-Likelihood:                -1498.8\n",
      "No. Observations:                 506   AIC:                             3026.\n",
      "Df Residuals:                     492   BIC:                             3085.\n",
      "Df Model:                          13                                         \n",
      "Covariance Type:            nonrobust                                         \n",
      "==============================================================================\n",
      "                 coef    std err          t      P>|t|      [0.025      0.975]\n",
      "------------------------------------------------------------------------------\n",
      "const         22.5328      0.211    106.814      0.000      22.118      22.947\n",
      "CRIM          -0.9281      0.282     -3.287      0.001      -1.483      -0.373\n",
      "ZN             1.0816      0.320      3.382      0.001       0.453       1.710\n",
      "INDUS          0.1409      0.421      0.334      0.738      -0.687       0.969\n",
      "CHAS           0.6817      0.219      3.118      0.002       0.252       1.111\n",
      "NOX           -2.0567      0.442     -4.651      0.000      -2.926      -1.188\n",
      "RM             2.6742      0.293      9.116      0.000       2.098       3.251\n",
      "AGE            0.0195      0.371      0.052      0.958      -0.710       0.749\n",
      "DIS           -3.1040      0.420     -7.398      0.000      -3.928      -2.280\n",
      "RAD            2.6622      0.577      4.613      0.000       1.528       3.796\n",
      "TAX           -2.0768      0.633     -3.280      0.001      -3.321      -0.833\n",
      "PTRATIO       -2.0606      0.283     -7.283      0.000      -2.617      -1.505\n",
      "B              0.8493      0.245      3.467      0.001       0.368       1.331\n",
      "LSTAT         -3.7436      0.362    -10.347      0.000      -4.454      -3.033\n",
      "==============================================================================\n",
      "Omnibus:                      178.041   Durbin-Watson:                   1.078\n",
      "Prob(Omnibus):                  0.000   Jarque-Bera (JB):              783.126\n",
      "Skew:                           1.521   Prob(JB):                    8.84e-171\n",
      "Kurtosis:                       8.281   Cond. No.                         9.82\n",
      "==============================================================================\n",
      "\n",
      "Notes:\n",
      "[1] Standard Errors assume that the covariance matrix of the errors is correctly specified.\n"
     ]
    }
   ],
   "source": [
    "if __name__ == \"__main__\":\n",
    "    main()"
   ]
  }
 ],
 "metadata": {
  "kernelspec": {
   "display_name": "Python 3 (ipykernel)",
   "language": "python",
   "name": "python3"
  },
  "language_info": {
   "codemirror_mode": {
    "name": "ipython",
    "version": 3
   },
   "file_extension": ".py",
   "mimetype": "text/x-python",
   "name": "python",
   "nbconvert_exporter": "python",
   "pygments_lexer": "ipython3",
   "version": "3.12.7"
  }
 },
 "nbformat": 4,
 "nbformat_minor": 5
}
